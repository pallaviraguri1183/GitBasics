{
 "cells": [
  {
   "cell_type": "markdown",
   "metadata": {},
   "source": [
    "# Strings:\n",
    "     - It can be represented within a ' or \" and we can represent other data types enclosed with ' or \"\n",
    "     - It can be typecasted as str()\n",
    "     - It has index and slicing can be done\n",
    "     - It can be changes the character but it doesn't effect to original string "
   ]
  },
  {
   "cell_type": "code",
   "execution_count": 2,
   "metadata": {},
   "outputs": [
    {
     "name": "stdout",
     "output_type": "stream",
     "text": [
      "APSSDC INTERNSHIP\n"
     ]
    }
   ],
   "source": [
    "n = \"APSSDC INTERNSHIP\"\n",
    "print(n)"
   ]
  },
  {
   "cell_type": "markdown",
   "metadata": {},
   "source": [
    "```\n",
    "range(a)\n",
    "range(a,b)\n",
    "range(a,b,c)\n",
    "inclusive range  -> exect index\n",
    "exclusive range  -> given index range - 1\n",
    "```"
   ]
  },
  {
   "cell_type": "code",
   "execution_count": 3,
   "metadata": {},
   "outputs": [
    {
     "name": "stdout",
     "output_type": "stream",
     "text": [
      "APSSDC INTERNSHIP\n",
      "C\n",
      "H\n",
      "SSDC INTERNSHIP\n",
      "APSSDC INTERNSHIP\n",
      "APSSDC IN\n",
      "C INTER\n",
      "TERNS\n",
      "\n"
     ]
    }
   ],
   "source": [
    "print(n)\n",
    "print(n[5])\n",
    "print(n[-3])\n",
    "print(n[2:])\n",
    "print(n[:])\n",
    "print(n[:9])\n",
    "print(n[5:12])\n",
    "print(n[9:-3])\n",
    "print(n[-2:9])"
   ]
  },
  {
   "cell_type": "code",
   "execution_count": 4,
   "metadata": {},
   "outputs": [
    {
     "name": "stdout",
     "output_type": "stream",
     "text": [
      "E\n",
      "ERNS\n"
     ]
    }
   ],
   "source": [
    "print(n[-7:11])\n",
    "print(n[-7:-3])"
   ]
  },
  {
   "cell_type": "code",
   "execution_count": 5,
   "metadata": {},
   "outputs": [
    {
     "name": "stdout",
     "output_type": "stream",
     "text": [
      "APSSDC INTERNSHIP\n",
      "APSSDC INTERNSHIP\n",
      "ASD NENHP\n",
      "PHNEN DSA\n",
      "CNRH\n",
      "CS\n",
      "EIDP\n",
      " INT\n",
      "RNS\n",
      "INTER\n",
      "PSSDC INT\n",
      "CN\n",
      "CIT\n"
     ]
    }
   ],
   "source": [
    "print(n)\n",
    "print(n[::])\n",
    "print(n[::2])   # steps 2 characters and prints the output\n",
    "print(n[::-2])  # prints reverse of a number\n",
    "print(n[5::3])\n",
    "print(n[5::-3])\n",
    "print(n[10::-3])\n",
    "print(n[6:10:])\n",
    "print(n[-6:14:])\n",
    "print(n[-10:-5:])\n",
    "print(n[1:-7:])\n",
    "print(n[5:10:3])\n",
    "print(n[5:-7:2])"
   ]
  },
  {
   "cell_type": "code",
   "execution_count": 6,
   "metadata": {},
   "outputs": [
    {
     "name": "stdout",
     "output_type": "stream",
     "text": [
      "234563424563534534 <class 'str'>\n",
      "435435365424365432 <class 'int'>\n"
     ]
    }
   ],
   "source": [
    "m = str(234563424563534534)\n",
    "print(m,type(m))\n",
    "k = int(m[::-1])\n",
    "print(k,type(k))"
   ]
  },
  {
   "cell_type": "code",
   "execution_count": 7,
   "metadata": {},
   "outputs": [
    {
     "name": "stdout",
     "output_type": "stream",
     "text": [
      "ashupandu\n",
      "u upan d\n",
      "as hupan du\n"
     ]
    }
   ],
   "source": [
    "n = input()\n",
    "print(n[3]+\" \"+n[3:-2]+\" \"+n[-2])\n",
    "print(n[0:2]+\" \"+n[2:-2]+\" \"+n[-2:])"
   ]
  },
  {
   "cell_type": "code",
   "execution_count": 8,
   "metadata": {},
   "outputs": [
    {
     "name": "stdout",
     "output_type": "stream",
     "text": [
      "am\n"
     ]
    }
   ],
   "source": [
    "m = \"apssdc program\"\n",
    "print(m[-2:])"
   ]
  },
  {
   "cell_type": "code",
   "execution_count": 9,
   "metadata": {},
   "outputs": [
    {
     "name": "stdout",
     "output_type": "stream",
     "text": [
      "['__add__', '__class__', '__contains__', '__delattr__', '__dir__', '__doc__', '__eq__', '__format__', '__ge__', '__getattribute__', '__getitem__', '__getnewargs__', '__gt__', '__hash__', '__init__', '__init_subclass__', '__iter__', '__le__', '__len__', '__lt__', '__mod__', '__mul__', '__ne__', '__new__', '__reduce__', '__reduce_ex__', '__repr__', '__rmod__', '__rmul__', '__setattr__', '__sizeof__', '__str__', '__subclasshook__', 'capitalize', 'casefold', 'center', 'count', 'encode', 'endswith', 'expandtabs', 'find', 'format', 'format_map', 'index', 'isalnum', 'isalpha', 'isascii', 'isdecimal', 'isdigit', 'isidentifier', 'islower', 'isnumeric', 'isprintable', 'isspace', 'istitle', 'isupper', 'join', 'ljust', 'lower', 'lstrip', 'maketrans', 'partition', 'replace', 'rfind', 'rindex', 'rjust', 'rpartition', 'rsplit', 'rstrip', 'split', 'splitlines', 'startswith', 'strip', 'swapcase', 'title', 'translate', 'upper', 'zfill']\n"
     ]
    }
   ],
   "source": [
    "print(dir(str))"
   ]
  },
  {
   "cell_type": "code",
   "execution_count": 10,
   "metadata": {},
   "outputs": [
    {
     "name": "stdout",
     "output_type": "stream",
     "text": [
      "Welcome to APSSDC program\n",
      "Welcome to apssdc program\n",
      "welcome to apssdc program\n",
      "Welcome To Apssdc Program\n",
      "wELCOME TO apssdc PROGRAM\n"
     ]
    }
   ],
   "source": [
    "b = \"Welcome to APSSDC program\"\n",
    "print(b)\n",
    "print(b.capitalize()) # only the 1st letter will be capital\n",
    "print(b.casefold())\n",
    "print(b.title())\n",
    "print(b.swapcase())      "
   ]
  },
  {
   "cell_type": "code",
   "execution_count": 11,
   "metadata": {},
   "outputs": [
    {
     "name": "stdout",
     "output_type": "stream",
     "text": [
      "Welcome to APSSDC program\n",
      "WELCOME TO APSSDC PROGRAM\n",
      "welcome to apssdc program\n",
      "False\n",
      "True\n"
     ]
    }
   ],
   "source": [
    "print(b)\n",
    "print(b.upper())\n",
    "print(b.lower())\n",
    "print(b.startswith('a'))  # prints true or false\n",
    "print(b.endswith('m'))"
   ]
  },
  {
   "cell_type": "code",
   "execution_count": 12,
   "metadata": {},
   "outputs": [
    {
     "name": "stdout",
     "output_type": "stream",
     "text": [
      "Welcome to APSSDC program\n",
      "['Welcome', 'to', 'APSSDC', 'program']\n",
      "['Welco', 'e to APSSDC progra', '']\n",
      "['Welco', 'e to APSSDC progra', '']\n",
      "2\n",
      "1\n",
      "-1\n",
      "6\n",
      "-1\n",
      "19\n",
      "22\n"
     ]
    }
   ],
   "source": [
    "print(b)\n",
    "print(b.split())\n",
    "print(b.split('m'))\n",
    "print(b.rsplit('m'))\n",
    "print(b.count('e'))\n",
    "print(b.find('e'))\n",
    "print(b.find('z'))\n",
    "print(b.rfind('e'))\n",
    "print(b.rfind('z'))\n",
    "print(b.index('r'))\n",
    "print(b.rindex('r'))"
   ]
  },
  {
   "cell_type": "code",
   "execution_count": 13,
   "metadata": {},
   "outputs": [
    {
     "name": "stdout",
     "output_type": "stream",
     "text": [
      "ashu pandu vyshu\n",
      "['ashu', 'pandu', 'vyshu']\n"
     ]
    }
   ],
   "source": [
    "n = input().split()\n",
    "print(n)"
   ]
  },
  {
   "cell_type": "code",
   "execution_count": 15,
   "metadata": {},
   "outputs": [
    {
     "name": "stdout",
     "output_type": "stream",
     "text": [
      "44588855622544\n",
      "['44', '888', '', '622', '44']\n"
     ]
    }
   ],
   "source": [
    "n = input().split('5')\n",
    "print(n)"
   ]
  },
  {
   "cell_type": "code",
   "execution_count": 16,
   "metadata": {},
   "outputs": [
    {
     "name": "stdout",
     "output_type": "stream",
     "text": [
      "      sample\n",
      "height     \n",
      "sample\n",
      "height\n"
     ]
    }
   ],
   "source": [
    "d = \"      sample\"\n",
    "e = \"height     \"\n",
    "print(d)\n",
    "print(e)\n",
    "print(d.strip())\n",
    "print(e.strip())  # removes the spaces from left and right side"
   ]
  },
  {
   "cell_type": "code",
   "execution_count": 17,
   "metadata": {},
   "outputs": [
    {
     "name": "stdout",
     "output_type": "stream",
     "text": [
      "      sample\n",
      "      sample             \n",
      "height         \n",
      "                                                      height     \n",
      "                                                           sample\n",
      "00000000000000height     \n",
      "0000000000000      sample\n"
     ]
    }
   ],
   "source": [
    "print(d)\n",
    "print(d.ljust(25))\n",
    "print(e.ljust(15))\n",
    "print(e.rjust(65))\n",
    "print(d.rjust(65))\n",
    "print(e.zfill(25))\n",
    "print(d.zfill(25))"
   ]
  },
  {
   "cell_type": "code",
   "execution_count": 18,
   "metadata": {},
   "outputs": [
    {
     "name": "stdout",
     "output_type": "stream",
     "text": [
      "APSSDC\n",
      "apssdc\n",
      "APSSDC\n"
     ]
    }
   ],
   "source": [
    "z = \"APSSDC\"\n",
    "p = z.lower()\n",
    "f = z.upper()\n",
    "print(z)\n",
    "print(p)\n",
    "print(f)"
   ]
  },
  {
   "cell_type": "code",
   "execution_count": 19,
   "metadata": {},
   "outputs": [
    {
     "name": "stdout",
     "output_type": "stream",
     "text": [
      "      sample\n",
      "      sample\n",
      "00000000      sample\n",
      "AAAAAAAA      sample\n"
     ]
    }
   ],
   "source": [
    "print(d)\n",
    "print(d.replace('A','x'))\n",
    "g = d.zfill(20)\n",
    "print(g)\n",
    "print(g.replace('0','A'))"
   ]
  },
  {
   "cell_type": "code",
   "execution_count": 20,
   "metadata": {},
   "outputs": [
    {
     "name": "stdout",
     "output_type": "stream",
     "text": [
      "P a n d u\n",
      "Pandu\n"
     ]
    }
   ],
   "source": [
    "k = \"Pandu\"\n",
    "a = \" \".join(k)\n",
    "print(a)\n",
    "print(k)"
   ]
  },
  {
   "cell_type": "code",
   "execution_count": 21,
   "metadata": {},
   "outputs": [
    {
     "name": "stdout",
     "output_type": "stream",
     "text": [
      "23_45_659\n",
      "['23', '45', '659']\n"
     ]
    }
   ],
   "source": [
    "t = [\"23\",\"45\",\"659\"]\n",
    "g = \"_\".join(t)\n",
    "print(g)\n",
    "print(t)"
   ]
  },
  {
   "cell_type": "code",
   "execution_count": 22,
   "metadata": {},
   "outputs": [
    {
     "name": "stdout",
     "output_type": "stream",
     "text": [
      "ashu-pandu\n",
      "['ashu', 'pandu']\n",
      "ashu\n"
     ]
    }
   ],
   "source": [
    "n = input().split(\"-\")\n",
    "print(n)\n",
    "print(n[0])"
   ]
  },
  {
   "cell_type": "code",
   "execution_count": 23,
   "metadata": {},
   "outputs": [
    {
     "name": "stdout",
     "output_type": "stream",
     "text": [
      "19KQ1A0519-PALLAVI-PACEITS 19\n",
      "['19KQ1A0519', 'PALLAVI', 'PACEITS 19']\n",
      "10\n",
      "['PACEITS', '19']\n",
      "19KQ1A0519\n",
      "PALLAVI 19\n"
     ]
    }
   ],
   "source": [
    "n = input().split(\"-\")\n",
    "print(n)\n",
    "print(len(n[0]))\n",
    "p = n[2].split()\n",
    "print(p)\n",
    "print(n[0])\n",
    "print(n[1]+\" \"+p[1])"
   ]
  },
  {
   "cell_type": "code",
   "execution_count": 24,
   "metadata": {},
   "outputs": [
    {
     "name": "stdout",
     "output_type": "stream",
     "text": [
      "1 4 3 $ @ 7 8 & 9 0 "
     ]
    }
   ],
   "source": [
    "k = '143$@78&90'\n",
    "for i in k:\n",
    "    print(i,end=\" \")"
   ]
  },
  {
   "cell_type": "code",
   "execution_count": 25,
   "metadata": {},
   "outputs": [
    {
     "name": "stdout",
     "output_type": "stream",
     "text": [
      "False\n",
      "False\n"
     ]
    }
   ],
   "source": [
    "print(k.isalpha())\n",
    "print(k.isalnum())"
   ]
  },
  {
   "cell_type": "code",
   "execution_count": 26,
   "metadata": {},
   "outputs": [
    {
     "name": "stdout",
     "output_type": "stream",
     "text": [
      "False\n",
      "True\n"
     ]
    }
   ],
   "source": [
    "u = \"123Sghi0\"\n",
    "i = \"awGhYuj\"\n",
    "print(u.isalpha())\n",
    "print(u.isalnum())"
   ]
  },
  {
   "cell_type": "markdown",
   "metadata": {},
   "source": [
    "```\n",
    "Input: 145hg%$#\n",
    "\n",
    "Output: \n",
    "    Given string is : 145hg%$#\n",
    "    Alphabets in 145hg%$# is : h g\n",
    "    Numbers in 145hg%$# is : 1 4 5\n",
    "    Special characters in 145hg%$# is : % $ #\n",
    "```\n"
   ]
  },
  {
   "cell_type": "code",
   "execution_count": 27,
   "metadata": {},
   "outputs": [
    {
     "name": "stdout",
     "output_type": "stream",
     "text": [
      "547@#$%jhi\n",
      "Given String is :  547@#$%jhi\n",
      "Alphabets in %d is:  j h i\n",
      "Numbers in %d is:  5 4 7\n",
      "Special characters in %d is:  @ # $ %\n"
     ]
    }
   ],
   "source": [
    "n = input()\n",
    "print(\"Given String is : \",n)\n",
    "l1 = []\n",
    "l2 = []\n",
    "l3 = []\n",
    "for i in n:\n",
    "    if(i.isalpha()):\n",
    "        l1.append(i)\n",
    "    elif(i.isdigit()):\n",
    "        l2.append(i)\n",
    "    else:\n",
    "        l3.append(i)\n",
    "a = \" \".join(l1)\n",
    "b = \" \".join(l2)\n",
    "c = \" \".join(l3)\n",
    "print(\"Alphabets in %d is: \",a)\n",
    "print(\"Numbers in %d is: \",b)\n",
    "print(\"Special characters in %d is: \",c)"
   ]
  },
  {
   "cell_type": "code",
   "execution_count": null,
   "metadata": {},
   "outputs": [],
   "source": []
  }
 ],
 "metadata": {
  "kernelspec": {
   "display_name": "Python 3",
   "language": "python",
   "name": "python3"
  },
  "language_info": {
   "codemirror_mode": {
    "name": "ipython",
    "version": 3
   },
   "file_extension": ".py",
   "mimetype": "text/x-python",
   "name": "python",
   "nbconvert_exporter": "python",
   "pygments_lexer": "ipython3",
   "version": "3.8.5"
  }
 },
 "nbformat": 4,
 "nbformat_minor": 4
}
