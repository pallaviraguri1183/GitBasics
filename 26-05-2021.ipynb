{
 "cells": [
  {
   "cell_type": "markdown",
   "metadata": {},
   "source": [
    "## Hi Welcome😊"
   ]
  },
  {
   "cell_type": "markdown",
   "metadata": {},
   "source": [
    "## Output\n",
    "      -  %\n",
    "      - , +\n",
    "      - .format\n"
   ]
  },
  {
   "cell_type": "code",
   "execution_count": 6,
   "metadata": {},
   "outputs": [
    {
     "name": "stdout",
     "output_type": "stream",
     "text": [
      "Enter a value : 5\n",
      "Enter a name : 10\n",
      "Entered number is : 5\n",
      "Entered number is : 10\n"
     ]
    }
   ],
   "source": [
    "n = int(input(\"Enter a value : \"))\n",
    "m = input(\"Enter a name : \")\n",
    "print(\"Entered number is : %d\"%n)\n",
    "print(\"Entered number is : %s\"%m)\n"
   ]
  },
  {
   "cell_type": "code",
   "execution_count": 7,
   "metadata": {},
   "outputs": [
    {
     "name": "stdout",
     "output_type": "stream",
     "text": [
      "Entered number is : 5 Entered name is : 10\n"
     ]
    }
   ],
   "source": [
    "print(\"Entered number is : %d Entered name is : %s\"%(n,m))"
   ]
  },
  {
   "cell_type": "code",
   "execution_count": 8,
   "metadata": {},
   "outputs": [
    {
     "name": "stdout",
     "output_type": "stream",
     "text": [
      "Entered number is : 5 Entered name is : 10\n",
      "Entered number is : 5 Entered name is : 10\n",
      "Entered number is : 10 Entered name is : 5\n"
     ]
    }
   ],
   "source": [
    "print(\"Entered number is : {} Entered name is : {}\".format(n,m))\n",
    "print(\"Entered number is : {0} Entered name is : {1}\".format(n,m))\n",
    "print(\"Entered number is : {1} Entered name is : {0}\".format(n,m))"
   ]
  },
  {
   "cell_type": "markdown",
   "metadata": {},
   "source": [
    "## Operators\n",
    "    - Arithmetic  -> +,-,*,/,%,floor(//  -> Exact integer), exponential(** ->pow())\n",
    "    - Logical  -> AND,OR,NOT\n",
    "    - Bitwise  -> &&,||,<<,>>\n",
    "    - Relational  -> ==,!=,<=,>=,<,>\n",
    "    - Assignment  -> +=,-=,*=,/=,%=\n",
    "    - Membership  -> in,not in\n",
    "    - Identity  -> is , is not"
   ]
  },
  {
   "cell_type": "code",
   "execution_count": 9,
   "metadata": {},
   "outputs": [
    {
     "name": "stdout",
     "output_type": "stream",
     "text": [
      "5\n"
     ]
    }
   ],
   "source": [
    "a = 20\n",
    "print(a>>2)"
   ]
  },
  {
   "cell_type": "code",
   "execution_count": 10,
   "metadata": {},
   "outputs": [
    {
     "name": "stdout",
     "output_type": "stream",
     "text": [
      "80\n"
     ]
    }
   ],
   "source": [
    "print(a<<2)"
   ]
  },
  {
   "cell_type": "markdown",
   "metadata": {},
   "source": [
    "## Conditional Statements\n",
    "    - To check whether a given condition is either true or false\n",
    "    - if,nested if,if-else,eslif ladder"
   ]
  },
  {
   "cell_type": "markdown",
   "metadata": {},
   "source": [
    "## If -> Single Case [T or F]\n",
    "        Syntax:\n",
    "            if(condition):\n",
    "                //stment\n",
    "               "
   ]
  },
  {
   "cell_type": "code",
   "execution_count": 11,
   "metadata": {},
   "outputs": [
    {
     "name": "stdout",
     "output_type": "stream",
     "text": [
      "5\n"
     ]
    }
   ],
   "source": [
    "n = int(input())\n",
    "if n == 45:\n",
    "    print(\"Entered value is: {}\".format(n))"
   ]
  },
  {
   "cell_type": "markdown",
   "metadata": {},
   "source": [
    "## If-else --> Two Cases[T or F]\n",
    "        Syntax:\n",
    "           if(condition-1):\n",
    "               // True Statement\n",
    "           else:\n",
    "              //False Statement"
   ]
  },
  {
   "cell_type": "code",
   "execution_count": 12,
   "metadata": {},
   "outputs": [
    {
     "name": "stdout",
     "output_type": "stream",
     "text": [
      "5\n",
      "10\n",
      "Entered value 5 is not equal to 10\n"
     ]
    }
   ],
   "source": [
    "k = int(input())\n",
    "m = int(input())\n",
    "if k == m:\n",
    "    print(\"Entered values {} and {} are equal\".format(k,m))\n",
    "else:\n",
    "    print(\"Entered value {} is not equal to {}\".format(k,m))"
   ]
  },
  {
   "cell_type": "markdown",
   "metadata": {},
   "source": [
    "## Nested If [if within an if] --> one or more cases\n",
    "```\n",
    "      Syntax:\n",
    "          if(condition-1):\n",
    "            if(condition-2):\n",
    "                //stment-1\n",
    "          else optional case\n",
    "          if(condition-1):\n",
    "             if(condition-2):\n",
    "                //stment-1\n",
    "             else:\n",
    "                //stment-2\n",
    "          else:\n",
    "                //stment-3\n",
    "```"
   ]
  },
  {
   "cell_type": "code",
   "execution_count": 13,
   "metadata": {},
   "outputs": [
    {
     "name": "stdout",
     "output_type": "stream",
     "text": [
      "55\n",
      "Entered value 55 is not equal to 100 but it is lower than 200\n"
     ]
    }
   ],
   "source": [
    "n = int(input())\n",
    "if (n<=200):\n",
    "    if(n==100):\n",
    "        print(\"Entered value {} is equal to 100\".format(n))\n",
    "    else:\n",
    "        print(\"Entered value {} is not equal to 100 but it is lower than 200\".format(n))\n",
    "else:\n",
    "    print(\"Entered value {} is greater than 200\".format(n))\n"
   ]
  },
  {
   "cell_type": "markdown",
   "metadata": {},
   "source": [
    "## Elif --> Two or n more cases\n",
    "```\n",
    "     Syntax \n",
    "        if(condition-1):\n",
    "           //stment-1\n",
    "        elif(condition-2):\n",
    "            //stment-2\n",
    "        elif(condition-3):\n",
    "            //stment-3\n",
    "        else:\n",
    "            //stment-(n+1)\n",
    " ```"
   ]
  },
  {
   "cell_type": "code",
   "execution_count": 14,
   "metadata": {},
   "outputs": [
    {
     "name": "stdout",
     "output_type": "stream",
     "text": [
      "65\n",
      "Entered value 65 is divisible by 2\n"
     ]
    }
   ],
   "source": [
    "h = int(input())\n",
    "if h%4 == 0:\n",
    "    print(\"Entered value {} is divisible by 4\".format(h))\n",
    "elif h%2 == 0 and h%4 == 0:\n",
    "    print(\"Entered value {} is divisible by 2 and 4\".format(h))\n",
    "elif h%2 == 0:\n",
    "    print(\"Entered value {} is divisible by 2\".format(h))\n",
    "else:\n",
    "    print(\"Entered value {} is divisible by 2\".format(h))"
   ]
  },
  {
   "cell_type": "markdown",
   "metadata": {},
   "source": [
    "## control Statements,Iterations,Loops,Repitition\n",
    "    - To control the Flow of execution\n",
    "    - For,while\n",
    "    "
   ]
  },
  {
   "cell_type": "markdown",
   "metadata": {},
   "source": [
    "## For --> For particular Range ==> [Know Range]\n",
    "```\n",
    "     Syntax:\n",
    "         for in interation_variable in iterator:\n",
    "            //stments\n",
    "         for iteration_variable in range():\n",
    "            //stments\n",
    "```"
   ]
  },
  {
   "cell_type": "markdown",
   "metadata": {},
   "source": [
    "## Range\n",
    "```\n",
    "     range(n):\n",
    "        -> By default it starts from 0 to n-1\n",
    "        -> range(5) = 0,1,2,3,4\n",
    "     range(n,m):\n",
    "        -> start range will starts from exactly at n and stops at n-1\n",
    "        -> range(4,8) => 4,5,6,7\n",
    "     range(n,m,s):\n",
    "        -> start range will starts from exactly at n and stops at m-1 and stepping to s\n",
    "        -> range(4,10,2) => 4,6,8\n",
    "```"
   ]
  },
  {
   "cell_type": "code",
   "execution_count": 15,
   "metadata": {},
   "outputs": [
    {
     "name": "stdout",
     "output_type": "stream",
     "text": [
      "5\n",
      "0\n",
      "1\n",
      "2\n",
      "3\n",
      "4\n"
     ]
    }
   ],
   "source": [
    "n = int(input())\n",
    "for b in range(n):\n",
    "    print(b)"
   ]
  },
  {
   "cell_type": "code",
   "execution_count": 16,
   "metadata": {},
   "outputs": [
    {
     "name": "stdout",
     "output_type": "stream",
     "text": [
      "Enter a range value:15\n",
      "0,1,2,3,4,5,6,7,8,9,10,11,12,13,14,"
     ]
    }
   ],
   "source": [
    "n = int(input(\"Enter a range value:\"))\n",
    "for b in range(n):\n",
    "    print(b,end = \",\")"
   ]
  },
  {
   "cell_type": "code",
   "execution_count": 3,
   "metadata": {},
   "outputs": [
    {
     "name": "stdout",
     "output_type": "stream",
     "text": [
      "Enter a range value:10\n",
      "Enter a ending range value:20\n",
      "10,11,12,13,14,15,16,17,18,19,"
     ]
    }
   ],
   "source": [
    "n = int(input(\"Enter a range value:\"))\n",
    "m = int(input(\"Enter a ending range value:\"))\n",
    "for b in range(n,m):\n",
    "    print(b,end = \",\")"
   ]
  },
  {
   "cell_type": "code",
   "execution_count": 5,
   "metadata": {},
   "outputs": [
    {
     "name": "stdout",
     "output_type": "stream",
     "text": [
      "Enter a range value:19\n",
      "Enter a ending range value:50\n",
      "Enter a stepping value:22\n",
      "19,41,"
     ]
    }
   ],
   "source": [
    "n = int(input(\"Enter a range value:\"))\n",
    "m = int(input(\"Enter a ending range value:\"))\n",
    "s = int(input(\"Enter a stepping value:\"))\n",
    "for b in range(n,m,s):\n",
    "    print(b,end = \",\")"
   ]
  },
  {
   "cell_type": "code",
   "execution_count": 17,
   "metadata": {},
   "outputs": [
    {
     "name": "stdout",
     "output_type": "stream",
     "text": [
      "Enter a range value:5\n",
      "Enter a ending range value:20\n",
      "Enter a stepping value:2\n",
      "20,18,16,14,12,10,8,6,"
     ]
    }
   ],
   "source": [
    "n = int(input(\"Enter a range value:\"))\n",
    "m = int(input(\"Enter a ending range value:\"))\n",
    "s = int(input(\"Enter a stepping value:\"))\n",
    "for b in range(m,n,-s):\n",
    "    print(b,end = \",\")"
   ]
  },
  {
   "cell_type": "code",
   "execution_count": null,
   "metadata": {},
   "outputs": [],
   "source": []
  },
  {
   "cell_type": "code",
   "execution_count": null,
   "metadata": {},
   "outputs": [],
   "source": []
  },
  {
   "cell_type": "code",
   "execution_count": null,
   "metadata": {},
   "outputs": [],
   "source": []
  }
 ],
 "metadata": {
  "kernelspec": {
   "display_name": "Python 3",
   "language": "python",
   "name": "python3"
  },
  "language_info": {
   "codemirror_mode": {
    "name": "ipython",
    "version": 3
   },
   "file_extension": ".py",
   "mimetype": "text/x-python",
   "name": "python",
   "nbconvert_exporter": "python",
   "pygments_lexer": "ipython3",
   "version": "3.8.5"
  }
 },
 "nbformat": 4,
 "nbformat_minor": 4
}
