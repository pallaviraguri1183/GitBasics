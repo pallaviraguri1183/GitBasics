{
 "cells": [
  {
   "cell_type": "markdown",
   "metadata": {},
   "source": [
    "## Set:"
   ]
  },
  {
   "cell_type": "code",
   "execution_count": 2,
   "metadata": {},
   "outputs": [
    {
     "name": "stdout",
     "output_type": "stream",
     "text": [
      "{450, 'a', 45, 120, 'Ramu', 155}\n"
     ]
    }
   ],
   "source": [
    "g = {45,'a',45,120,155,450,\"Ramu\"}\n",
    "print(g)"
   ]
  },
  {
   "cell_type": "code",
   "execution_count": 3,
   "metadata": {},
   "outputs": [
    {
     "data": {
      "text/plain": [
       "{120, 155, 45, 450, 'Ramu', 'a'}"
      ]
     },
     "execution_count": 3,
     "metadata": {},
     "output_type": "execute_result"
    }
   ],
   "source": [
    "g"
   ]
  },
  {
   "cell_type": "code",
   "execution_count": 4,
   "metadata": {},
   "outputs": [
    {
     "name": "stdout",
     "output_type": "stream",
     "text": [
      "{} <class 'dict'>\n",
      "{2} <class 'set'>\n"
     ]
    }
   ],
   "source": [
    "h = {}\n",
    "m = {2}\n",
    "print(h,type(h))\n",
    "print(m,type(m))"
   ]
  },
  {
   "cell_type": "code",
   "execution_count": 5,
   "metadata": {},
   "outputs": [
    {
     "name": "stdout",
     "output_type": "stream",
     "text": [
      "['__and__', '__class__', '__contains__', '__delattr__', '__dir__', '__doc__', '__eq__', '__format__', '__ge__', '__getattribute__', '__gt__', '__hash__', '__iand__', '__init__', '__init_subclass__', '__ior__', '__isub__', '__iter__', '__ixor__', '__le__', '__len__', '__lt__', '__ne__', '__new__', '__or__', '__rand__', '__reduce__', '__reduce_ex__', '__repr__', '__ror__', '__rsub__', '__rxor__', '__setattr__', '__sizeof__', '__str__', '__sub__', '__subclasshook__', '__xor__', 'add', 'clear', 'copy', 'difference', 'difference_update', 'discard', 'intersection', 'intersection_update', 'isdisjoint', 'issubset', 'issuperset', 'pop', 'remove', 'symmetric_difference', 'symmetric_difference_update', 'union', 'update']\n"
     ]
    }
   ],
   "source": [
    "print(dir(set))"
   ]
  },
  {
   "cell_type": "code",
   "execution_count": 6,
   "metadata": {},
   "outputs": [
    {
     "name": "stdout",
     "output_type": "stream",
     "text": [
      "{0, 34, 67, 'prasanna', 'ram', 'lalitha'}\n"
     ]
    }
   ],
   "source": [
    "s1 = {34,67,\"ram\",0,\"lalitha\"}\n",
    "s1.add(\"prasanna\")\n",
    "print(s1)"
   ]
  },
  {
   "cell_type": "code",
   "execution_count": 7,
   "metadata": {},
   "outputs": [
    {
     "data": {
      "text/plain": [
       "{0, 34, 67, 'lalitha', 'prasanna', 'ram'}"
      ]
     },
     "execution_count": 7,
     "metadata": {},
     "output_type": "execute_result"
    }
   ],
   "source": [
    "s1"
   ]
  },
  {
   "cell_type": "code",
   "execution_count": 8,
   "metadata": {},
   "outputs": [
    {
     "name": "stdout",
     "output_type": "stream",
     "text": [
      "{0, 34, 67, 'prasanna', 'ram', 'lalitha'}\n",
      "{34, 67, 'prasanna', 'ram', 'lalitha'}\n"
     ]
    }
   ],
   "source": [
    "print(s1)\n",
    "s1.pop()\n",
    "print(s1)"
   ]
  },
  {
   "cell_type": "code",
   "execution_count": 9,
   "metadata": {},
   "outputs": [
    {
     "name": "stdout",
     "output_type": "stream",
     "text": [
      "{34, 67, 'prasanna', 'ram', 'lalitha'}\n",
      "{67, 'prasanna', 'ram', 'lalitha'}\n"
     ]
    }
   ],
   "source": [
    "print(s1)\n",
    "s1.pop()\n",
    "print(s1)"
   ]
  },
  {
   "cell_type": "code",
   "execution_count": 10,
   "metadata": {},
   "outputs": [
    {
     "data": {
      "text/plain": [
       "{67, 'lalitha', 'prasanna', 'ram'}"
      ]
     },
     "execution_count": 10,
     "metadata": {},
     "output_type": "execute_result"
    }
   ],
   "source": [
    "s1"
   ]
  },
  {
   "cell_type": "code",
   "execution_count": 11,
   "metadata": {},
   "outputs": [
    {
     "name": "stdout",
     "output_type": "stream",
     "text": [
      "{67, 'prasanna', 'ram', 'lalitha'}\n",
      "{'prasanna', 'ram', 'lalitha'}\n"
     ]
    }
   ],
   "source": [
    "print(s1)\n",
    "s1.pop()\n",
    "print(s1)"
   ]
  },
  {
   "cell_type": "code",
   "execution_count": 1,
   "metadata": {},
   "outputs": [
    {
     "name": "stdout",
     "output_type": "stream",
     "text": [
      "{98, 5, 8, 45, 23}\n",
      "{1, 2, 5, 6, 456, 85}\n",
      "{1, 98, 2, 5, 6, 8, 456, 45, 85, 23}\n",
      "{98, 5, 8, 45, 23}\n",
      "{1, 2, 5, 6, 456, 85}\n"
     ]
    }
   ],
   "source": [
    "s2 ={45,8,23,5,98}\n",
    "s3 = {1,2,5,6,85,456}\n",
    "print(s2)\n",
    "print(s3)\n",
    "print(s2.union(s3))\n",
    "print(s2)\n",
    "print(s3)"
   ]
  },
  {
   "cell_type": "code",
   "execution_count": 2,
   "metadata": {},
   "outputs": [
    {
     "name": "stdout",
     "output_type": "stream",
     "text": [
      "{98, 5, 8, 45, 23}\n",
      "{1, 2, 5, 6, 456, 85}\n",
      "{5}\n",
      "{98, 5, 8, 45, 23}\n",
      "{1, 2, 5, 6, 456, 85}\n"
     ]
    }
   ],
   "source": [
    "print(s2)\n",
    "print(s3)\n",
    "print(s2.intersection(s3))\n",
    "print(s2)\n",
    "print(s3)"
   ]
  },
  {
   "cell_type": "markdown",
   "metadata": {},
   "source": [
    "# Dictionary:"
   ]
  },
  {
   "cell_type": "code",
   "execution_count": 3,
   "metadata": {},
   "outputs": [
    {
     "name": "stdout",
     "output_type": "stream",
     "text": [
      "{'name': ('ramu', 'suresh', 'vyshu'), 'age': 20, 'sal': [24, 500, 52, 6000]} <class 'dict'>\n"
     ]
    }
   ],
   "source": [
    "t = {'name':(\"ramu\",\"suresh\",\"vyshu\"),'age':20,'sal':[24,500,52,6000]}\n",
    "print(t,type(t))"
   ]
  },
  {
   "cell_type": "code",
   "execution_count": 4,
   "metadata": {},
   "outputs": [
    {
     "name": "stdout",
     "output_type": "stream",
     "text": [
      "ramu\n"
     ]
    }
   ],
   "source": [
    "print(t['name'][0])"
   ]
  },
  {
   "cell_type": "code",
   "execution_count": 5,
   "metadata": {},
   "outputs": [
    {
     "name": "stdout",
     "output_type": "stream",
     "text": [
      "24\n"
     ]
    }
   ],
   "source": [
    "print(t['sal'][0])"
   ]
  },
  {
   "cell_type": "code",
   "execution_count": 6,
   "metadata": {},
   "outputs": [
    {
     "name": "stdout",
     "output_type": "stream",
     "text": [
      "['__class__', '__contains__', '__delattr__', '__delitem__', '__dir__', '__doc__', '__eq__', '__format__', '__ge__', '__getattribute__', '__getitem__', '__gt__', '__hash__', '__init__', '__init_subclass__', '__iter__', '__le__', '__len__', '__lt__', '__ne__', '__new__', '__reduce__', '__reduce_ex__', '__repr__', '__reversed__', '__setattr__', '__setitem__', '__sizeof__', '__str__', '__subclasshook__', 'clear', 'copy', 'fromkeys', 'get', 'items', 'keys', 'pop', 'popitem', 'setdefault', 'update', 'values']\n"
     ]
    }
   ],
   "source": [
    "print(dir(dict))"
   ]
  },
  {
   "cell_type": "code",
   "execution_count": 7,
   "metadata": {},
   "outputs": [
    {
     "name": "stdout",
     "output_type": "stream",
     "text": [
      "dict_keys(['name', 'age', 'sal'])\n"
     ]
    }
   ],
   "source": [
    "print(t.keys())"
   ]
  },
  {
   "cell_type": "code",
   "execution_count": 8,
   "metadata": {},
   "outputs": [
    {
     "name": "stdout",
     "output_type": "stream",
     "text": [
      "dict_values([('ramu', 'suresh', 'vyshu'), 20, [24, 500, 52, 6000]])\n"
     ]
    }
   ],
   "source": [
    "print(t.values())"
   ]
  },
  {
   "cell_type": "code",
   "execution_count": 9,
   "metadata": {},
   "outputs": [
    {
     "name": "stdout",
     "output_type": "stream",
     "text": [
      "{'name': 'tilak', 'age': [45, 59], 'sal': 0}\n"
     ]
    }
   ],
   "source": [
    "y = {'name': \"tilak\",\"age\":[45,59],\"sal\":0}\n",
    "print(y)"
   ]
  },
  {
   "cell_type": "code",
   "execution_count": 10,
   "metadata": {},
   "outputs": [
    {
     "name": "stdout",
     "output_type": "stream",
     "text": [
      "dict_items([('name', ('ramu', 'suresh', 'vyshu')), ('age', 20), ('sal', [24, 500, 52, 6000])])\n"
     ]
    }
   ],
   "source": [
    "print(t.items())"
   ]
  },
  {
   "cell_type": "code",
   "execution_count": 11,
   "metadata": {},
   "outputs": [
    {
     "name": "stdout",
     "output_type": "stream",
     "text": [
      "('ramu', 'suresh', 'vyshu')\n",
      "20\n",
      "[24, 500, 52, 6000]\n"
     ]
    }
   ],
   "source": [
    "print(t.get('name'))\n",
    "print(t.get('age'))\n",
    "print(t.get('sal'))"
   ]
  },
  {
   "cell_type": "code",
   "execution_count": 12,
   "metadata": {},
   "outputs": [
    {
     "name": "stdout",
     "output_type": "stream",
     "text": [
      "('ramu', 'suresh', 'vyshu')\n",
      "20\n",
      "None\n"
     ]
    }
   ],
   "source": [
    "print(t.get('name'))\n",
    "print(t.get('age'))\n",
    "print(t.get('no'))"
   ]
  },
  {
   "cell_type": "code",
   "execution_count": 13,
   "metadata": {},
   "outputs": [
    {
     "name": "stdout",
     "output_type": "stream",
     "text": [
      "{'name': ('ramu', 'suresh', 'vyshu'), 'age': 20, 'sal': [24, 500, 52, 6000]}\n"
     ]
    }
   ],
   "source": [
    "print(t)"
   ]
  },
  {
   "cell_type": "code",
   "execution_count": 14,
   "metadata": {},
   "outputs": [
    {
     "name": "stdout",
     "output_type": "stream",
     "text": [
      "{'name': ('ramu', 'suresh', 'vyshu'), 'age': 20, 'sal': [24, 500, 52, 6000]}\n",
      "{'name': ('ramu', 'suresh', 'vyshu'), 'age': 20, 'sal': [24, 500, 52, 6000], 'no': [12, 65, 856, 456]}\n"
     ]
    }
   ],
   "source": [
    "print(t)\n",
    "t['no']= [12,65,856,456]\n",
    "print(t)"
   ]
  },
  {
   "cell_type": "code",
   "execution_count": 15,
   "metadata": {},
   "outputs": [
    {
     "name": "stdout",
     "output_type": "stream",
     "text": [
      "{'name': ('ramu', 'suresh', 'vyshu'), 'age': 20, 'sal': [24, 500, 52, 6000], 'no': [12, 65, 856, 456]}\n",
      "{'name': ('ramu', 'suresh', 'vyshu'), 'age': 20, 'sal': [24, 500, 52, 6000], 'no': 'yamini'}\n"
     ]
    }
   ],
   "source": [
    "print(t)\n",
    "t['no']='yamini'\n",
    "print(t)"
   ]
  },
  {
   "cell_type": "code",
   "execution_count": 16,
   "metadata": {},
   "outputs": [
    {
     "name": "stdout",
     "output_type": "stream",
     "text": [
      "{'name': ('ramu', 'suresh', 'vyshu'), 'age': 20, 'sal': [24, 500, 52, 6000], 'no': 'yamini'}\n",
      "{'name': ('ramu', 'suresh', 'vyshu'), 'age': 20, 'sal': [24, 500, 52, 6000], 'no': 'yamini', 'tr': None}\n"
     ]
    }
   ],
   "source": [
    "print(t)\n",
    "t.setdefault('tr')\n",
    "print(t)"
   ]
  },
  {
   "cell_type": "code",
   "execution_count": 17,
   "metadata": {},
   "outputs": [
    {
     "name": "stdout",
     "output_type": "stream",
     "text": [
      "{'name': ('ramu', 'suresh', 'vyshu'), 'age': 20, 'sal': [24, 500, 52, 6000], 'no': 'yamini', 'tr': None}\n"
     ]
    }
   ],
   "source": [
    "print(t)"
   ]
  },
  {
   "cell_type": "code",
   "execution_count": 19,
   "metadata": {},
   "outputs": [
    {
     "name": "stdout",
     "output_type": "stream",
     "text": [
      "{'name': ('ramu', 'suresh', 'vyshu'), 'age': 20, 'sal': [24, 500, 52, 6000], 'no': 'yamini', 'tr': None}\n",
      "{'name': ('ramu', 'suresh', 'vyshu'), 'age': 20, 'sal': [24, 500, 52, 6000], 'no': 'yamini', 'tr': 45}\n"
     ]
    }
   ],
   "source": [
    "print(t)\n",
    "t.update({'tr':45})\n",
    "print(t)"
   ]
  },
  {
   "cell_type": "code",
   "execution_count": 20,
   "metadata": {},
   "outputs": [
    {
     "name": "stdout",
     "output_type": "stream",
     "text": [
      "{'name': ('ramu', 'suresh', 'vyshu'), 'age': 20, 'sal': [24, 500, 52, 6000], 'no': 'yamini', 'tr': 45}\n"
     ]
    }
   ],
   "source": [
    "print(t)"
   ]
  },
  {
   "cell_type": "code",
   "execution_count": 21,
   "metadata": {},
   "outputs": [
    {
     "name": "stdout",
     "output_type": "stream",
     "text": [
      "None\n"
     ]
    }
   ],
   "source": [
    "print(t.update({'tr':\"ramu\"}))"
   ]
  },
  {
   "cell_type": "code",
   "execution_count": 22,
   "metadata": {},
   "outputs": [
    {
     "name": "stdout",
     "output_type": "stream",
     "text": [
      "{'name': ('ramu', 'suresh', 'vyshu'), 'age': 20, 'sal': [24, 500, 52, 6000], 'no': 'yamini', 'tr': 'ramu'}\n"
     ]
    }
   ],
   "source": [
    "print(t)"
   ]
  },
  {
   "cell_type": "code",
   "execution_count": 23,
   "metadata": {},
   "outputs": [
    {
     "name": "stdout",
     "output_type": "stream",
     "text": [
      "{'name': ('ramu', 'suresh', 'vyshu'), 'age': 20, 'sal': [24, 500, 52, 6000], 'no': 'yamini', 'tr': 'ramu'}\n",
      "20\n",
      "{'name': ('ramu', 'suresh', 'vyshu'), 'sal': [24, 500, 52, 6000], 'no': 'yamini', 'tr': 'ramu'}\n"
     ]
    }
   ],
   "source": [
    "print(t)\n",
    "print(t.pop('age'))\n",
    "print(t)"
   ]
  },
  {
   "cell_type": "code",
   "execution_count": 24,
   "metadata": {},
   "outputs": [
    {
     "name": "stdout",
     "output_type": "stream",
     "text": [
      "{'name': ('ramu', 'suresh', 'vyshu'), 'sal': [24, 500, 52, 6000], 'no': 'yamini', 'tr': 'ramu'}\n",
      "('tr', 'ramu')\n",
      "{'name': ('ramu', 'suresh', 'vyshu'), 'sal': [24, 500, 52, 6000], 'no': 'yamini'}\n"
     ]
    }
   ],
   "source": [
    "print(t)\n",
    "print(t.popitem())\n",
    "print(t)"
   ]
  },
  {
   "cell_type": "code",
   "execution_count": 26,
   "metadata": {},
   "outputs": [
    {
     "name": "stdout",
     "output_type": "stream",
     "text": [
      "{'name', 'age', 'sal'}\n",
      "[12, 45, 70, 65, 98]\n",
      "{'name', 'age', 'sal'}\n",
      "[12, 45, 70, 65, 98]\n"
     ]
    }
   ],
   "source": [
    "q = {'name','age','sal'}\n",
    "w = [12,45,70,65,98]\n",
    "print(q)\n",
    "print(w)\n",
    "f = {'name':34,\"donar\":45}\n",
    "f.fromkeys(q)\n",
    "f.fromkeys(w)\n",
    "print(q)\n",
    "print(w)\n",
    "# Syntax : fromkeys([],values)"
   ]
  },
  {
   "cell_type": "code",
   "execution_count": 28,
   "metadata": {},
   "outputs": [
    {
     "name": "stdout",
     "output_type": "stream",
     "text": [
      "{}\n"
     ]
    }
   ],
   "source": [
    "t = {}\n",
    "t.fromkeys(q,45)\n",
    "print(t)"
   ]
  },
  {
   "cell_type": "code",
   "execution_count": 30,
   "metadata": {},
   "outputs": [
    {
     "name": "stdout",
     "output_type": "stream",
     "text": [
      "['name', 'age', 'sal']\n",
      "98\n",
      "{}\n"
     ]
    }
   ],
   "source": [
    "q = ['name','age','sal']\n",
    "w = 98\n",
    "print(q)\n",
    "print(w)\n",
    "f = {}\n",
    "f.fromkeys(q,w)\n",
    "print(f)"
   ]
  },
  {
   "cell_type": "code",
   "execution_count": 31,
   "metadata": {},
   "outputs": [
    {
     "name": "stdout",
     "output_type": "stream",
     "text": [
      "{'name': 98, 'age': 98, 'sal': 98}\n"
     ]
    }
   ],
   "source": [
    "t1 = {'name':\"ramu\",'sno':1}\n",
    "t1 = {}\n",
    "t1 = t.fromkeys(q,w)\n",
    "print(t1)\n"
   ]
  },
  {
   "cell_type": "code",
   "execution_count": 32,
   "metadata": {},
   "outputs": [
    {
     "name": "stdout",
     "output_type": "stream",
     "text": [
      "{'maths': [0, 45], 'python': [0, 45], 'c++': [0, 45]}\n"
     ]
    }
   ],
   "source": [
    "marks = {}.fromkeys([\"maths\",\"python\",\"c++\"],[0,45])\n",
    "print(marks)"
   ]
  },
  {
   "cell_type": "markdown",
   "metadata": {},
   "source": [
    "```\n",
    "contact apllication:\n",
    "    \n",
    "    \n",
    "    1.Enter new record\n",
    "    2.Display all records\n",
    "    3.Update record\n",
    "    4.Delete record\n",
    "    \n",
    "    1.Ramu -> not exist\n",
    "       mobile number -> xxxxxxxxxxx\n",
    "    \n",
    "    2.\n",
    "       Name         Mobile Number\n",
    "       Ramu          xxxxxxxxxx\n",
    "       Rajesh        xxxxxxxxxx\n",
    "        \n",
    "    3. Ramu -> exist\n",
    "       mobilr number -> xxxxxxxxxx\n",
    "    \n",
    "    4. Ramu -> exist\n",
    "       User deleted successfully\n",
    "       User doesn't exist"
   ]
  },
  {
   "cell_type": "markdown",
   "metadata": {},
   "source": [
    "```\n",
    "1. Enter new contact\n",
    "2. Display all contacts\n",
    "3. Update contacts\n",
    "4. Delete contacts\n",
    "    \n",
    "    1. Enter your name : Pallavi\n",
    "       Pallavi already exists\n",
    "       Enter mobile number -> xxxxxxxxxxx\n",
    "    \n",
    "    2.\n",
    "       Name         Mobile Number\n",
    "       Pallavi       xxxxxxxxxxx\n",
    "        \n",
    "    3. Enter your name : Pallavi\n",
    "       Enter updated mobile number : xxxxxxxxxxx\n",
    "        \n",
    "       Pallavi1\n",
    "       Pallavi1 does not exist in your contacts\n",
    "    \n",
    "    4. Enter your name : Pallavi  \n",
    "       Pallavi record deleted successfully\n",
    "       Pallavi record doesn't exist in your contacts"
   ]
  }
 ],
 "metadata": {
  "kernelspec": {
   "display_name": "Python 3",
   "language": "python",
   "name": "python3"
  },
  "language_info": {
   "codemirror_mode": {
    "name": "ipython",
    "version": 3
   },
   "file_extension": ".py",
   "mimetype": "text/x-python",
   "name": "python",
   "nbconvert_exporter": "python",
   "pygments_lexer": "ipython3",
   "version": "3.8.5"
  }
 },
 "nbformat": 4,
 "nbformat_minor": 4
}
