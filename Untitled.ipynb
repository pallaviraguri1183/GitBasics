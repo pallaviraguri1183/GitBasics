{
 "cells": [
  {
   "cell_type": "markdown",
   "metadata": {},
   "source": [
    "## Django:\n",
    "      - it is external module in python,so that we have to install\n",
    "      - it is web development framewokr coded in python\n",
    "      - while developing this django they followed a design pattern MVT.\n",
    "      \n",
    "### MVC:\n",
    "       - M => MODEL\n",
    "            - it will store logics related database\n",
    "        \n",
    "       - V => VIEW\n",
    "            - it willl store info related\n",
    "            UI(user interface)\n",
    "          \n",
    "       - C => CONTROLLER\n",
    "            - it will logics main logic"
   ]
  },
  {
   "cell_type": "markdown",
   "metadata": {},
   "source": [
    "## MVT :\n",
    "     M - Model\n",
    "       - it will stores logic related database\n",
    "     V - View\n",
    "       - it will works like controller\n",
    "     T - Template\n",
    "       - It will store related info\n",
    "       UI(User Interface)"
   ]
  },
  {
   "cell_type": "markdown",
   "metadata": {},
   "source": [
    "### Required Software :\n",
    "    - Install django\n",
    "        * To install django , you have to run a cmd in command prompt\n",
    "        `` pip install django`` == versionofDJ\n",
    "        \n",
    "    - install any tool(sublime,atom,pycharm,notepad++,visual studio)"
   ]
  },
  {
   "cell_type": "code",
   "execution_count": null,
   "metadata": {},
   "outputs": [],
   "source": []
  }
 ],
 "metadata": {
  "kernelspec": {
   "display_name": "Python 3",
   "language": "python",
   "name": "python3"
  },
  "language_info": {
   "codemirror_mode": {
    "name": "ipython",
    "version": 3
   },
   "file_extension": ".py",
   "mimetype": "text/x-python",
   "name": "python",
   "nbconvert_exporter": "python",
   "pygments_lexer": "ipython3",
   "version": "3.8.5"
  }
 },
 "nbformat": 4,
 "nbformat_minor": 4
}
