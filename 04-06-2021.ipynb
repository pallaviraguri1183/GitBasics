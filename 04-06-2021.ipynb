{
 "cells": [
  {
   "cell_type": "markdown",
   "metadata": {},
   "source": [
    "# Functions :\n",
    "    - To perfoem a specific task\n",
    "    - Reuseability of code\n",
    "    - Number of lines can be decreased\n",
    "    - predefined functions, User defined functions\n",
    "    "
   ]
  },
  {
   "cell_type": "markdown",
   "metadata": {},
   "source": [
    "## Predefined Functions\n",
    "    - Already work has been allocated for it\n",
    "    - print(),range(),int(),str(),max()\n",
    "     "
   ]
  },
  {
   "cell_type": "markdown",
   "metadata": {},
   "source": [
    "## User defined Functions:\n",
    "     - We all nedd to allocate work for a function\n",
    "     - Syntax:\n",
    "          def functon_name(arguments):\n",
    "            //stments\n",
    "            return return_value"
   ]
  },
  {
   "cell_type": "markdown",
   "metadata": {},
   "source": [
    "## Types of Functions:\n",
    "      - with return type and with arguments\n",
    "      - With return type and without arguments\n",
    "      - without return type and with arguments\n",
    "      - Without return type and without arguments"
   ]
  },
  {
   "cell_type": "code",
   "execution_count": 3,
   "metadata": {},
   "outputs": [
    {
     "name": "stdout",
     "output_type": "stream",
     "text": [
      "15\n",
      "1 2 3 4 5 6 7 8 9 10 11 12 13 14 15 "
     ]
    }
   ],
   "source": [
    "# With return type and with arguments\n",
    "# Reading - main\n",
    "# Printing - mian\n",
    "# logic - Function\n",
    "\n",
    "def printnumbers(k):                \n",
    "    j = []\n",
    "    for b in range(1,k+1):\n",
    "        j.append(b)\n",
    "    return j\n",
    "\n",
    "n = int(input())\n",
    "for z in range(1,len(printnumbers(n))+1):\n",
    "    print(z,end = \" \")"
   ]
  },
  {
   "cell_type": "code",
   "execution_count": 4,
   "metadata": {},
   "outputs": [
    {
     "name": "stdout",
     "output_type": "stream",
     "text": [
      "15\n",
      "2 4 6 8 10 12 14 "
     ]
    }
   ],
   "source": [
    "# With return type and without arguments\n",
    "# Reading - Function\n",
    "# Printing - mian\n",
    "# logic - Function\n",
    "\n",
    "def evennumbers():\n",
    "    k,c = int(input()),[]\n",
    "    for b in range(1,k+1):\n",
    "        if b%2 == 0:\n",
    "            c.append(b)\n",
    "    return c\n",
    "for z in evennumbers():\n",
    "    print(z,end=\" \")\n",
    "        "
   ]
  },
  {
   "cell_type": "code",
   "execution_count": 8,
   "metadata": {},
   "outputs": [
    {
     "name": "stdout",
     "output_type": "stream",
     "text": [
      "20\n",
      "1 3 5 7 9 11 13 15 17 19 "
     ]
    }
   ],
   "source": [
    "# Without return type and with arguments\n",
    "# Reading - main\n",
    "# Printing - Function\n",
    "# logic - Function\n",
    "\n",
    "def oddnumbers(m):\n",
    "    for i in range(1,m+1):\n",
    "        if i%2 != 0:\n",
    "            print(i,end=\" \")\n",
    "    return\n",
    "b = int(input())\n",
    "oddnumbers(b)"
   ]
  },
  {
   "cell_type": "code",
   "execution_count": 9,
   "metadata": {},
   "outputs": [
    {
     "name": "stdout",
     "output_type": "stream",
     "text": [
      "10\n",
      "50\n",
      "2\n",
      "10 12 14 16 18 20 22 24 26 28 30 32 34 36 38 40 42 44 46 48 "
     ]
    }
   ],
   "source": [
    "# Without return type and without arguments\n",
    "# Reading - Function\n",
    "# Printing - Function\n",
    "# logic - Function\n",
    "\n",
    "def skippingvalues():\n",
    "    n = int(input())\n",
    "    m = int(input())\n",
    "    s = int(input())\n",
    "    for j in range(n,m,s):\n",
    "        print(j,end=\" \")\n",
    "    return\n",
    "skippingvalues()"
   ]
  },
  {
   "cell_type": "markdown",
   "metadata": {},
   "source": [
    "## Task:\n",
    "\n",
    "```\n",
    "Input: 4578965325\n",
    "Output:\n",
    "    Given number is: 4578965325\n",
    "    Even numbers are : 4 8  6 2\n",
    "    Odd numbers are : 5 7 9 5 3 5\n",
    "    Left half of even numbers are : 6 2\n",
    "    Right half of even numbers are : 4 8\n",
    "    Left half of odd numbers are : 5 3 5\n",
    "    Right half of odd numbers are : 5 7 9\n",
    "```"
   ]
  },
  {
   "cell_type": "markdown",
   "metadata": {},
   "source": [
    "## Arguements Types:\n",
    "      - Required arguments (or) Positional Arguments\n",
    "      - Default arguments\n",
    "      - Keyword arguments\n",
    "      - Variable Length arguments"
   ]
  },
  {
   "cell_type": "code",
   "execution_count": 11,
   "metadata": {},
   "outputs": [
    {
     "name": "stdout",
     "output_type": "stream",
     "text": [
      "Enter a name : pandu\n",
      "Enter an age : 18\n"
     ]
    },
    {
     "ename": "TypeError",
     "evalue": "student() missing 1 required positional argument: 'p'",
     "output_type": "error",
     "traceback": [
      "\u001b[1;31m---------------------------------------------------------------------------\u001b[0m",
      "\u001b[1;31mTypeError\u001b[0m                                 Traceback (most recent call last)",
      "\u001b[1;32m<ipython-input-11-9e3da05b5116>\u001b[0m in \u001b[0;36m<module>\u001b[1;34m\u001b[0m\n\u001b[0;32m      6\u001b[0m \u001b[0mname\u001b[0m \u001b[1;33m=\u001b[0m \u001b[0minput\u001b[0m\u001b[1;33m(\u001b[0m\u001b[1;34m\"Enter a name : \"\u001b[0m\u001b[1;33m)\u001b[0m\u001b[1;33m\u001b[0m\u001b[1;33m\u001b[0m\u001b[0m\n\u001b[0;32m      7\u001b[0m \u001b[0mage\u001b[0m \u001b[1;33m=\u001b[0m \u001b[0mint\u001b[0m\u001b[1;33m(\u001b[0m\u001b[0minput\u001b[0m\u001b[1;33m(\u001b[0m\u001b[1;34m\"Enter an age : \"\u001b[0m\u001b[1;33m)\u001b[0m\u001b[1;33m)\u001b[0m\u001b[1;33m\u001b[0m\u001b[1;33m\u001b[0m\u001b[0m\n\u001b[1;32m----> 8\u001b[1;33m \u001b[0mstudent\u001b[0m\u001b[1;33m(\u001b[0m\u001b[0mname\u001b[0m\u001b[1;33m,\u001b[0m\u001b[0mage\u001b[0m\u001b[1;33m)\u001b[0m\u001b[1;33m\u001b[0m\u001b[1;33m\u001b[0m\u001b[0m\n\u001b[0m",
      "\u001b[1;31mTypeError\u001b[0m: student() missing 1 required positional argument: 'p'"
     ]
    }
   ],
   "source": [
    "# required arguments\n",
    "\n",
    "def student(n,a,p):\n",
    "    print(\"Your name is : {} your age is : \".format(a))\n",
    "    return\n",
    "name = input(\"Enter a name : \")\n",
    "age = int(input(\"Enter an age : \"))\n",
    "student(name,age)"
   ]
  },
  {
   "cell_type": "code",
   "execution_count": 1,
   "metadata": {},
   "outputs": [
    {
     "name": "stdout",
     "output_type": "stream",
     "text": [
      "Enter employee name: Raju\n",
      "Enter employee age : 35\n",
      "Employee name is : Raju\n",
      "Employee age is : 35\n",
      "Employee salary is : 45000\n"
     ]
    }
   ],
   "source": [
    "# Default argument\n",
    "\n",
    "def employee(k,p,s=45000):\n",
    "    print(\"Employee name is : {}\\nEmployee age is : {}\\nEmployee salary is : {}\".format(k,p,s))\n",
    "    return\n",
    "\n",
    "n = input(\"Enter employee name: \")\n",
    "m = int(input(\"Enter employee age : \"))\n",
    "employee(n,m)"
   ]
  },
  {
   "cell_type": "code",
   "execution_count": 8,
   "metadata": {},
   "outputs": [
    {
     "name": "stdout",
     "output_type": "stream",
     "text": [
      "Enter employee name: Harsha\n"
     ]
    },
    {
     "ename": "TypeError",
     "evalue": "employee() missing 1 required positional argument: 'p'",
     "output_type": "error",
     "traceback": [
      "\u001b[1;31m---------------------------------------------------------------------------\u001b[0m",
      "\u001b[1;31mTypeError\u001b[0m                                 Traceback (most recent call last)",
      "\u001b[1;32m<ipython-input-8-12056651abb6>\u001b[0m in \u001b[0;36m<module>\u001b[1;34m\u001b[0m\n\u001b[0;32m      5\u001b[0m \u001b[0mn\u001b[0m \u001b[1;33m=\u001b[0m \u001b[0minput\u001b[0m\u001b[1;33m(\u001b[0m\u001b[1;34m\"Enter employee name: \"\u001b[0m\u001b[1;33m)\u001b[0m\u001b[1;33m\u001b[0m\u001b[1;33m\u001b[0m\u001b[0m\n\u001b[0;32m      6\u001b[0m \u001b[1;31m# m = int(input(\"Enter employee age : \"))\u001b[0m\u001b[1;33m\u001b[0m\u001b[1;33m\u001b[0m\u001b[1;33m\u001b[0m\u001b[0m\n\u001b[1;32m----> 7\u001b[1;33m \u001b[0memployee\u001b[0m\u001b[1;33m(\u001b[0m\u001b[0mn\u001b[0m\u001b[1;33m)\u001b[0m\u001b[1;33m\u001b[0m\u001b[1;33m\u001b[0m\u001b[0m\n\u001b[0m",
      "\u001b[1;31mTypeError\u001b[0m: employee() missing 1 required positional argument: 'p'"
     ]
    }
   ],
   "source": [
    "def employee(k,p,s=45000):\n",
    "    print(\"Employee name is : {}\\nEmployee age is : {}\\nEmployee salary is : {}\".format(k,p,s))\n",
    "    return\n",
    "\n",
    "n = input(\"Enter employee name: \")\n",
    "# m = int(input(\"Enter employee age : \"))\n",
    "employee(n)"
   ]
  },
  {
   "cell_type": "code",
   "execution_count": 9,
   "metadata": {},
   "outputs": [
    {
     "name": "stdout",
     "output_type": "stream",
     "text": [
      "Enter your college name : PACEITS\n",
      "Enter your year : 2021\n",
      "Your collge name is : PACEITS\n",
      "your year is : 2021\n"
     ]
    }
   ],
   "source": [
    "# Keyword argument\n",
    "\n",
    "def college(cname,year):\n",
    "    print(\"Your collge name is : {}\\nyour year is : {}\".format(cname,year))\n",
    "    return\n",
    "\n",
    "cname = input(\"Enter your college name : \")\n",
    "year = int(input(\"Enter your year : \"))\n",
    "college(cname,year)"
   ]
  },
  {
   "cell_type": "code",
   "execution_count": 12,
   "metadata": {},
   "outputs": [
    {
     "name": "stdout",
     "output_type": "stream",
     "text": [
      "Enter your college name : PACEITS\n",
      "Enter your year : 2019\n",
      "Your college name is : PACEITS\n",
      "your year is : 2019\n"
     ]
    }
   ],
   "source": [
    "# Keyword argument\n",
    "\n",
    "def college(y,c):\n",
    "    print(\"Your college name is : {}\\nyour year is : {}\".format(c,y))\n",
    "    return\n",
    "# cname = input(\"Enter your college name : \")\n",
    "# year = int(input(\"Enter your year : \"))\n",
    "college(c=input(\"Enter your college name : \"),y = int(input(\"Enter your year : \")))"
   ]
  },
  {
   "cell_type": "code",
   "execution_count": 14,
   "metadata": {},
   "outputs": [
    {
     "name": "stdout",
     "output_type": "stream",
     "text": [
      "5\n",
      " 5  665  48 5 \n",
      "Harsha <class 'str'>\n",
      "(['5', '665', '48', '5'],) <class 'tuple'>\n"
     ]
    }
   ],
   "source": [
    "# variable length argument\n",
    "\n",
    "def number(*p):\n",
    "    print(n,type(n))\n",
    "    print(p,type(p))\n",
    "    return\n",
    "b = int(input())\n",
    "k = input().split()\n",
    "number(k)"
   ]
  },
  {
   "cell_type": "code",
   "execution_count": 15,
   "metadata": {},
   "outputs": [
    {
     "name": "stdout",
     "output_type": "stream",
     "text": [
      "4\n",
      "2 45 26 54\n",
      "4 <class 'int'>\n",
      "(['2', '45', '26', '54'],) <class 'tuple'>\n"
     ]
    }
   ],
   "source": [
    "def number(y,*p):\n",
    "    print(y,type(y))\n",
    "    print(p,type(p))\n",
    "    return\n",
    "b = int(input())\n",
    "k = input().split()\n",
    "number(b,k)"
   ]
  },
  {
   "cell_type": "code",
   "execution_count": 16,
   "metadata": {},
   "outputs": [
    {
     "name": "stdout",
     "output_type": "stream",
     "text": [
      "5\n",
      "64\n",
      "2 45 9 7 5 66 \n",
      "5 <class 'int'>\n",
      "('64', '2 45 9 7 5 66 ') <class 'tuple'>\n"
     ]
    }
   ],
   "source": [
    "def number(y,*p):\n",
    "    print(y,type(y))\n",
    "    print(p,type(p))\n",
    "    return\n",
    "b = int(input())\n",
    "k = input()\n",
    "g = input()\n",
    "number(b,k,g)"
   ]
  },
  {
   "cell_type": "code",
   "execution_count": null,
   "metadata": {},
   "outputs": [],
   "source": []
  }
 ],
 "metadata": {
  "kernelspec": {
   "display_name": "Python 3",
   "language": "python",
   "name": "python3"
  },
  "language_info": {
   "codemirror_mode": {
    "name": "ipython",
    "version": 3
   },
   "file_extension": ".py",
   "mimetype": "text/x-python",
   "name": "python",
   "nbconvert_exporter": "python",
   "pygments_lexer": "ipython3",
   "version": "3.8.5"
  }
 },
 "nbformat": 4,
 "nbformat_minor": 4
}
